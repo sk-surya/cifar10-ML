{
 "cells": [
  {
   "cell_type": "code",
   "execution_count": 1,
   "metadata": {},
   "outputs": [],
   "source": [
    "import cv2    # pip install opencv-python\n",
    "import readInput\n",
    "import pandas as pd\n",
    "from sklearn.decomposition import PCA\n",
    "import numpy as np\n",
    "import time\n",
    "import pickle\n",
    "import os\n",
    "import sys"
   ]
  },
  {
   "cell_type": "code",
   "execution_count": 2,
   "metadata": {},
   "outputs": [],
   "source": [
    "def create_SVM():\n",
    "    svm = cv2.ml.SVM_create()\n",
    "    svm.setType(cv2.ml.SVM_C_SVC)\n",
    "    svm.setKernel(cv2.ml.SVM_RBF)\n",
    "    svm.setC(0.1)\n",
    "    svm.setGamma(0.1)\n",
    "    return svm\n",
    "\n",
    "def getHogDescriptors(img_arr):\n",
    "    # HOG Parameters:\n",
    "    winSize = 32\n",
    "    blockSize = 12\n",
    "    blockStride = 4\n",
    "    cellSize = 4\n",
    "    nbins = 18\n",
    "    derivAperture = 1\n",
    "    winSigma = -1.\n",
    "    histogramNormType = 0\n",
    "    L2HysThreshold = 0.2\n",
    "    gammaCorrection = True\n",
    "    nlevels = 64\n",
    "    signedGradient = True\n",
    "    hog = cv2.HOGDescriptor((winSize,winSize),(blockSize, blockSize),(blockStride,blockStride),(cellSize,cellSize),nbins,derivAperture, winSigma,histogramNormType,L2HysThreshold,gammaCorrection,nlevels,signedGradient)\n",
    "    return np.array([hog.compute(img).flatten() for img in img_arr])\n",
    "    \n",
    "def getPCA(X_train):\n",
    "    t1 = time.time()\n",
    "    pca = PCA(3000)\n",
    "    pca.fit(X_train)\n",
    "    print('dumping pca file.')\n",
    "    with open('SvmHogPca', 'wb') as writeFile:\n",
    "        pickle.dump(pca, writeFile)\n",
    "    print(f'pca took {time.time()-t1} seconds.')\n",
    "    return pca\n",
    "\n",
    "def trainHogSvmClassifier():\n",
    "    print('Training HOG + SVM Classifier')\n",
    "    svm = create_SVM()\n",
    "    \n",
    "    train_img_arr, y_train = readInput.readTrainData()\n",
    "    X_train = getHogDescriptors(train_img_arr)\n",
    "    #y_train = y_train.copy()\n",
    "    pca = getPCA(X_train)\n",
    "    \n",
    "    X_train = pca.transform(X_train)\n",
    "    \n",
    "    t2 = time.time()\n",
    "    svm.train(np.asarray(X_train), cv2.ml.ROW_SAMPLE, np.asarray(y_train, dtype=np.int32))\n",
    "    print(f'SVM training took {time.time()-t2} seconds')\n",
    "    print('Dumping classifier to file.')\n",
    "    svm.save('SvmHogModel')\n",
    "    return svm, pca\n",
    "\n",
    "def predictTestData(svm, pca):\n",
    "    t1 = time.time()\n",
    "    test_img_arr, y_test = readInput.readTestData()\n",
    "    \n",
    "    X_test = getHogDescriptors(test_img_arr)\n",
    "    X_test = pca.transform(X_test)\n",
    "    \n",
    "    predictions = svm.predict(np.asarray(X_test))[1].ravel()\n",
    "    accuracy = (y_test == predictions).mean()\n",
    "    print(f'Test Accuracy = {accuracy*100} %.')\n",
    "    print(f'Predicted in {time.time()-t1} seconds.')\n",
    "    pred_df = pd.DataFrame(data={'Predictions' : predictions, 'Actual' : y_test})\n",
    "    return pred_df\n",
    "\n",
    "def saveDfToCsv(df):\n",
    "    df.to_csv('mod_2_PredictionsHogSvm.csv')\n",
    "    print('Saved Predictions.csv')"
   ]
  },
  {
   "cell_type": "code",
   "execution_count": 3,
   "metadata": {},
   "outputs": [],
   "source": [
    "def getClassifier(arg):\n",
    "    if arg.lower() == 'forcetrain':\n",
    "        clf_svm, pca = trainHogSvmClassifier()\n",
    "    else:\n",
    "        try:\n",
    "            print('opening pre-trained model file.')\n",
    "            #with open(r\"SvmHogModel\", \"rb\") as inputFile:\n",
    "            clf_svm = cv2.ml.SVM_load('SvmHogModel')\n",
    "            with open(r\"SvmHogPca\", \"rb\") as inputFile:\n",
    "                pca = pickle.load(inputFile)\n",
    "            print('Loaded Pre-trained HogSVM classifier and pca.')\n",
    "        except FileNotFoundError:\n",
    "            print('File not found. Initiate Force Training.')\n",
    "            clf_svm, pca = trainHogSvmClassifier()\n",
    "    return clf_svm, pca"
   ]
  },
  {
   "cell_type": "code",
   "execution_count": 4,
   "metadata": {},
   "outputs": [],
   "source": [
    "def main(arg):\n",
    "    # Loading VGG16 model and defining feature extractor\n",
    "\n",
    "    #arg = 'forcetrain' #sys.argv[1]\n",
    "    #arg = 'dummy'\n",
    "    clf, pca = getClassifier(arg)\n",
    "    df = predictTestData(clf, pca)\n",
    "    saveDfToCsv(df)\n",
    "    \n",
    "    print('Program Exited succesfully.')"
   ]
  },
  {
   "cell_type": "code",
   "execution_count": 5,
   "metadata": {},
   "outputs": [
    {
     "name": "stdout",
     "output_type": "stream",
     "text": [
      "opening pre-trained model file.\n",
      "Loaded Pre-trained HogSVM classifier and pca.\n",
      "Test Accuracy = 10.0 %.\n",
      "Predicted in 17.909039974212646 seconds.\n",
      "Saved Predictions.csv\n",
      "Program Exited succesfully.\n"
     ]
    }
   ],
   "source": [
    "#main('forceTrain')\n",
    "arg = 'dummy' # or 'forceTrain'\n",
    "#arg = 'forceTrain'\n",
    "main(arg)\n"
   ]
  },
  {
   "cell_type": "code",
   "execution_count": null,
   "metadata": {},
   "outputs": [],
   "source": []
  }
 ],
 "metadata": {
  "@webio": {
   "lastCommId": null,
   "lastKernelId": null
  },
  "kernelspec": {
   "display_name": "Python 3",
   "language": "python",
   "name": "python3"
  },
  "language_info": {
   "codemirror_mode": {
    "name": "ipython",
    "version": 3
   },
   "file_extension": ".py",
   "mimetype": "text/x-python",
   "name": "python",
   "nbconvert_exporter": "python",
   "pygments_lexer": "ipython3",
   "version": "3.7.3"
  }
 },
 "nbformat": 4,
 "nbformat_minor": 2
}
