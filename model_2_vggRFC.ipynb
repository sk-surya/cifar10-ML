{
 "cells": [
  {
   "cell_type": "code",
   "execution_count": 1,
   "metadata": {},
   "outputs": [
    {
     "name": "stderr",
     "output_type": "stream",
     "text": [
      "Using TensorFlow backend.\n",
      "C:\\Users\\surya\\Anaconda3\\lib\\site-packages\\tensorflow\\python\\framework\\dtypes.py:526: FutureWarning: Passing (type, 1) or '1type' as a synonym of type is deprecated; in a future version of numpy, it will be understood as (type, (1,)) / '(1,)type'.\n",
      "  _np_qint8 = np.dtype([(\"qint8\", np.int8, 1)])\n",
      "C:\\Users\\surya\\Anaconda3\\lib\\site-packages\\tensorflow\\python\\framework\\dtypes.py:527: FutureWarning: Passing (type, 1) or '1type' as a synonym of type is deprecated; in a future version of numpy, it will be understood as (type, (1,)) / '(1,)type'.\n",
      "  _np_quint8 = np.dtype([(\"quint8\", np.uint8, 1)])\n",
      "C:\\Users\\surya\\Anaconda3\\lib\\site-packages\\tensorflow\\python\\framework\\dtypes.py:528: FutureWarning: Passing (type, 1) or '1type' as a synonym of type is deprecated; in a future version of numpy, it will be understood as (type, (1,)) / '(1,)type'.\n",
      "  _np_qint16 = np.dtype([(\"qint16\", np.int16, 1)])\n",
      "C:\\Users\\surya\\Anaconda3\\lib\\site-packages\\tensorflow\\python\\framework\\dtypes.py:529: FutureWarning: Passing (type, 1) or '1type' as a synonym of type is deprecated; in a future version of numpy, it will be understood as (type, (1,)) / '(1,)type'.\n",
      "  _np_quint16 = np.dtype([(\"quint16\", np.uint16, 1)])\n",
      "C:\\Users\\surya\\Anaconda3\\lib\\site-packages\\tensorflow\\python\\framework\\dtypes.py:530: FutureWarning: Passing (type, 1) or '1type' as a synonym of type is deprecated; in a future version of numpy, it will be understood as (type, (1,)) / '(1,)type'.\n",
      "  _np_qint32 = np.dtype([(\"qint32\", np.int32, 1)])\n",
      "C:\\Users\\surya\\Anaconda3\\lib\\site-packages\\tensorflow\\python\\framework\\dtypes.py:535: FutureWarning: Passing (type, 1) or '1type' as a synonym of type is deprecated; in a future version of numpy, it will be understood as (type, (1,)) / '(1,)type'.\n",
      "  np_resource = np.dtype([(\"resource\", np.ubyte, 1)])\n"
     ]
    }
   ],
   "source": [
    "import keras\n",
    "from keras.applications.vgg16 import VGG16\n",
    "from keras.models import Model\n",
    "import readInput   # Local file\n",
    "import numpy as np\n",
    "from sklearn.ensemble import RandomForestClassifier\n",
    "import time\n",
    "import pandas as pd\n",
    "import sys\n",
    "import pickle\n",
    "import tensorflow as tf"
   ]
  },
  {
   "cell_type": "code",
   "execution_count": 2,
   "metadata": {},
   "outputs": [],
   "source": [
    "config = tf.ConfigProto()\n",
    "config.gpu_options.allow_growth = True\n",
    "tf.keras.backend.set_session(tf.Session(config=config))"
   ]
  },
  {
   "cell_type": "code",
   "execution_count": 3,
   "metadata": {},
   "outputs": [],
   "source": [
    "def getConvFeatures(img_arr):\n",
    "    vgg16 = VGG16(input_shape=(32, 32, 3), weights='imagenet', include_top=False)\n",
    "    conv_block_5_out = vgg16.get_layer('block5_pool').output\n",
    "    feature_extractor_512b = Model(inputs=vgg16.input, outputs=conv_block_5_out)\n",
    "    \n",
    "    return np.squeeze(feature_extractor_512b.predict(img_arr))\n",
    "\n",
    "def trainRandomForestClassifier():\n",
    "    t1 = time.time()\n",
    "    print('Training Random Forest Classifier')\n",
    "    clf = RandomForestClassifier(n_estimators = 300, n_jobs=-1)\n",
    "    \n",
    "    train_img_arr, y_train = readInput.readTrainData()\n",
    "    X_train = getConvFeatures(train_img_arr)\n",
    "    clf.fit(X_train, y_train)\n",
    "    print(f'Took {time.time()-t1} seconds.')\n",
    "    print('Dumping classifier to file.')\n",
    "    try:\n",
    "        with open('vggRfcModel', 'wb') as writeFile:\n",
    "            pickle.dump(clf, writeFile)\n",
    "    except:\n",
    "        print('Dumping model into file Failed.')\n",
    "    finally:\n",
    "        return clf\n",
    "\n",
    "def predictTestData(clf):\n",
    "    t1 = time.time()\n",
    "    test_img_arr, y_test = readInput.readTestData()\n",
    "    X_test = getConvFeatures(test_img_arr)\n",
    "    predictions = clf.predict(X_test)\n",
    "    accuracy = (y_test == predictions).mean()\n",
    "    print(f'Test Accuracy = {accuracy*100} %.')\n",
    "    print(f'Predicted in {time.time()-t1} seconds.')\n",
    "    pred_df = pd.DataFrame(data={'Predictions' : predictions, 'Actual' : y_test})\n",
    "    return pred_df\n",
    "\n",
    "def saveDfToCsv(df):\n",
    "    df.to_csv('mod_1_PredictionsRFC.csv')\n",
    "    print('Saved Predictions.csv')"
   ]
  },
  {
   "cell_type": "code",
   "execution_count": 4,
   "metadata": {},
   "outputs": [],
   "source": [
    "def getClassifier(arg):\n",
    "    if arg.lower() == 'forcetrain':\n",
    "        clf = trainRandomForestClassifier()\n",
    "    else:\n",
    "        try:\n",
    "            print('opening pre-trained model file.')\n",
    "            with open(r\"vggRfcModel\", \"rb\") as inputFile:\n",
    "                clf = pickle.load(inputFile)\n",
    "            print('Loaded Pre-trained RFC classifier.')\n",
    "        except FileNotFoundError:\n",
    "            print('File not found. Initiate Force Training.')\n",
    "            clf = trainRandomForestClassifier()\n",
    "        finally:\n",
    "            return clf\n",
    "    return clf"
   ]
  },
  {
   "cell_type": "code",
   "execution_count": 5,
   "metadata": {},
   "outputs": [],
   "source": [
    "def main(arg):\n",
    "    # Loading VGG16 model and defining feature extractor\n",
    "\n",
    "    #arg = 'forcetrain' #sys.argv[1]\n",
    "    #arg = 'dummy'\n",
    "    clf_rfc = getClassifier(arg)\n",
    "    df = predictTestData(clf_rfc)\n",
    "    saveDfToCsv(df)\n",
    "    \n",
    "    print('Program Exited succesfully.')"
   ]
  },
  {
   "cell_type": "code",
   "execution_count": 6,
   "metadata": {},
   "outputs": [
    {
     "name": "stdout",
     "output_type": "stream",
     "text": [
      "opening pre-trained model file.\n",
      "Loaded Pre-trained RFC classifier.\n",
      "WARNING:tensorflow:From C:\\Users\\surya\\Anaconda3\\lib\\site-packages\\tensorflow\\python\\framework\\op_def_library.py:263: colocate_with (from tensorflow.python.framework.ops) is deprecated and will be removed in a future version.\n",
      "Instructions for updating:\n",
      "Colocations handled automatically by placer.\n",
      "Test Accuracy = 58.330000000000005 %.\n",
      "Predicted in 5.497439861297607 seconds.\n",
      "Saved Predictions.csv\n",
      "Program Exited succesfully.\n"
     ]
    }
   ],
   "source": [
    "#main('forceTrain')\n",
    "arg = 'dummy' # or 'forceTrain'\n",
    "#arg = 'forceTrain'\n",
    "main(arg)\n"
   ]
  },
  {
   "cell_type": "code",
   "execution_count": null,
   "metadata": {},
   "outputs": [],
   "source": []
  }
 ],
 "metadata": {
  "@webio": {
   "lastCommId": null,
   "lastKernelId": null
  },
  "kernelspec": {
   "display_name": "Python 3",
   "language": "python",
   "name": "python3"
  },
  "language_info": {
   "codemirror_mode": {
    "name": "ipython",
    "version": 3
   },
   "file_extension": ".py",
   "mimetype": "text/x-python",
   "name": "python",
   "nbconvert_exporter": "python",
   "pygments_lexer": "ipython3",
   "version": "3.7.3"
  }
 },
 "nbformat": 4,
 "nbformat_minor": 2
}
