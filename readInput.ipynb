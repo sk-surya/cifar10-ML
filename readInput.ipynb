{
 "cells": [
  {
   "cell_type": "code",
   "execution_count": 2,
   "metadata": {},
   "outputs": [],
   "source": [
    "import os\n",
    "import numpy as np"
   ]
  },
  {
   "cell_type": "code",
   "execution_count": 2,
   "metadata": {},
   "outputs": [],
   "source": [
    "trainFilenames = [\"./dataset/\" + x for x in os.listdir('dataset') if '.bin' in x and 'batch' in x and 'test' not in x]\n",
    "testFilenames = [\"./dataset/test_batch.bin\"]"
   ]
  },
  {
   "cell_type": "code",
   "execution_count": 3,
   "metadata": {},
   "outputs": [],
   "source": [
    "assert trainFilenames == [   './dataset/data_batch_1.bin',\n",
    "                             './dataset/data_batch_2.bin',\n",
    "                             './dataset/data_batch_3.bin',\n",
    "                             './dataset/data_batch_4.bin',\n",
    "                             './dataset/data_batch_5.bin'], 'Training Filenames not found as expected'"
   ]
  },
  {
   "cell_type": "code",
   "execution_count": 4,
   "metadata": {},
   "outputs": [],
   "source": [
    "def readBinFile(filename):\n",
    "    data = bytes()\n",
    "    with open(filename, mode='rb') as file:\n",
    "        data += file.read()\n",
    "    return data\n",
    "\n",
    "def getDatafromBin(filenames):\n",
    "    data = bytes()\n",
    "    \n",
    "    for filename in filenames:\n",
    "        data = data + readBinFile(filename)\n",
    "    rgb = np.frombuffer(data, dtype=np.uint8)\n",
    "    num_img = int(len(rgb)/3073)\n",
    "    rgb2 = rgb.reshape(num_img, 3073)\n",
    "    labels = rgb2[:, 0]\n",
    "    features = rgb2[:, 1:]\n",
    "    rgb_3d = features.reshape(num_img, 3, 1024)\n",
    "    img_arr = rgb_3d.swapaxes(1,2).reshape(len(rgb_3d), 32, 32, 3)\n",
    "    return img_arr, labels\n",
    "\n",
    "def readClassnames():\n",
    "    with open('./dataset/' + 'batches.meta.txt', mode='r') as file:\n",
    "        txt_content = file.read()\n",
    "    class_names = [x for x in txt_content.splitlines() if len(x.strip()) > 0]\n",
    "    return class_names\n",
    "\n",
    "def readTrainData():\n",
    "    return getDatafromBin(trainFilenames)\n",
    "\n",
    "def readTestData():\n",
    "    return getDatafromBin(testFilenames)\n"
   ]
  },
  {
   "cell_type": "code",
   "execution_count": 7,
   "metadata": {},
   "outputs": [],
   "source": [
    "# train_img_arr, trainFeatures = readTrainData()\n",
    "# test_img_arr, testFeatures = readTestData()"
   ]
  },
  {
   "cell_type": "code",
   "execution_count": null,
   "metadata": {},
   "outputs": [],
   "source": []
  }
 ],
 "metadata": {
  "@webio": {
   "lastCommId": null,
   "lastKernelId": null
  },
  "kernelspec": {
   "display_name": "Python 3",
   "language": "python",
   "name": "python3"
  },
  "language_info": {
   "codemirror_mode": {
    "name": "ipython",
    "version": 3
   },
   "file_extension": ".py",
   "mimetype": "text/x-python",
   "name": "python",
   "nbconvert_exporter": "python",
   "pygments_lexer": "ipython3",
   "version": "3.7.3"
  }
 },
 "nbformat": 4,
 "nbformat_minor": 2
}
